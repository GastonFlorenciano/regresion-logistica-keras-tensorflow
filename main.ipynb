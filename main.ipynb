{
 "cells": [
  {
   "cell_type": "markdown",
   "id": "f07e3166",
   "metadata": {},
   "source": [
    "## **IMPORTACIONES**"
   ]
  },
  {
   "cell_type": "code",
   "execution_count": 75,
   "id": "3d84823d",
   "metadata": {},
   "outputs": [],
   "source": [
    "import pandas as pd\n",
    "import numpy as np\n",
    "\n",
    "from matplotlib import pyplot as plt\n",
    "\n",
    "from sklearn.model_selection import train_test_split\n",
    "\n",
    "from tensorflow.keras.models import Sequential\n",
    "from tensorflow.keras.layers import Dense\n",
    "\n",
    "import joblib "
   ]
  },
  {
   "cell_type": "markdown",
   "id": "a6d736f9",
   "metadata": {},
   "source": [
    "### **Crear DataFrame**\n",
    "- Creamos el DataFrame e imprimimos las 5 primeras filas para ver superficialmente el contenido."
   ]
  },
  {
   "cell_type": "code",
   "execution_count": 76,
   "id": "fdd04b3d",
   "metadata": {},
   "outputs": [
    {
     "data": {
      "text/html": [
       "<div>\n",
       "<style scoped>\n",
       "    .dataframe tbody tr th:only-of-type {\n",
       "        vertical-align: middle;\n",
       "    }\n",
       "\n",
       "    .dataframe tbody tr th {\n",
       "        vertical-align: top;\n",
       "    }\n",
       "\n",
       "    .dataframe thead th {\n",
       "        text-align: right;\n",
       "    }\n",
       "</style>\n",
       "<table border=\"1\" class=\"dataframe\">\n",
       "  <thead>\n",
       "    <tr style=\"text-align: right;\">\n",
       "      <th></th>\n",
       "      <th>male</th>\n",
       "      <th>age</th>\n",
       "      <th>education</th>\n",
       "      <th>currentSmoker</th>\n",
       "      <th>cigsPerDay</th>\n",
       "      <th>BPMeds</th>\n",
       "      <th>prevalentStroke</th>\n",
       "      <th>prevalentHyp</th>\n",
       "      <th>diabetes</th>\n",
       "      <th>totChol</th>\n",
       "      <th>sysBP</th>\n",
       "      <th>diaBP</th>\n",
       "      <th>BMI</th>\n",
       "      <th>heartRate</th>\n",
       "      <th>glucose</th>\n",
       "      <th>TenYearCHD</th>\n",
       "    </tr>\n",
       "  </thead>\n",
       "  <tbody>\n",
       "    <tr>\n",
       "      <th>0</th>\n",
       "      <td>1</td>\n",
       "      <td>39</td>\n",
       "      <td>4.0</td>\n",
       "      <td>0</td>\n",
       "      <td>0.0</td>\n",
       "      <td>0.0</td>\n",
       "      <td>0</td>\n",
       "      <td>0</td>\n",
       "      <td>0</td>\n",
       "      <td>195.0</td>\n",
       "      <td>106.0</td>\n",
       "      <td>70.0</td>\n",
       "      <td>26.97</td>\n",
       "      <td>80.0</td>\n",
       "      <td>77.0</td>\n",
       "      <td>0</td>\n",
       "    </tr>\n",
       "    <tr>\n",
       "      <th>1</th>\n",
       "      <td>0</td>\n",
       "      <td>46</td>\n",
       "      <td>2.0</td>\n",
       "      <td>0</td>\n",
       "      <td>0.0</td>\n",
       "      <td>0.0</td>\n",
       "      <td>0</td>\n",
       "      <td>0</td>\n",
       "      <td>0</td>\n",
       "      <td>250.0</td>\n",
       "      <td>121.0</td>\n",
       "      <td>81.0</td>\n",
       "      <td>28.73</td>\n",
       "      <td>95.0</td>\n",
       "      <td>76.0</td>\n",
       "      <td>0</td>\n",
       "    </tr>\n",
       "    <tr>\n",
       "      <th>2</th>\n",
       "      <td>1</td>\n",
       "      <td>48</td>\n",
       "      <td>1.0</td>\n",
       "      <td>1</td>\n",
       "      <td>20.0</td>\n",
       "      <td>0.0</td>\n",
       "      <td>0</td>\n",
       "      <td>0</td>\n",
       "      <td>0</td>\n",
       "      <td>245.0</td>\n",
       "      <td>127.5</td>\n",
       "      <td>80.0</td>\n",
       "      <td>25.34</td>\n",
       "      <td>75.0</td>\n",
       "      <td>70.0</td>\n",
       "      <td>0</td>\n",
       "    </tr>\n",
       "    <tr>\n",
       "      <th>3</th>\n",
       "      <td>0</td>\n",
       "      <td>61</td>\n",
       "      <td>3.0</td>\n",
       "      <td>1</td>\n",
       "      <td>30.0</td>\n",
       "      <td>0.0</td>\n",
       "      <td>0</td>\n",
       "      <td>1</td>\n",
       "      <td>0</td>\n",
       "      <td>225.0</td>\n",
       "      <td>150.0</td>\n",
       "      <td>95.0</td>\n",
       "      <td>28.58</td>\n",
       "      <td>65.0</td>\n",
       "      <td>103.0</td>\n",
       "      <td>1</td>\n",
       "    </tr>\n",
       "    <tr>\n",
       "      <th>4</th>\n",
       "      <td>0</td>\n",
       "      <td>46</td>\n",
       "      <td>3.0</td>\n",
       "      <td>1</td>\n",
       "      <td>23.0</td>\n",
       "      <td>0.0</td>\n",
       "      <td>0</td>\n",
       "      <td>0</td>\n",
       "      <td>0</td>\n",
       "      <td>285.0</td>\n",
       "      <td>130.0</td>\n",
       "      <td>84.0</td>\n",
       "      <td>23.10</td>\n",
       "      <td>85.0</td>\n",
       "      <td>85.0</td>\n",
       "      <td>0</td>\n",
       "    </tr>\n",
       "  </tbody>\n",
       "</table>\n",
       "</div>"
      ],
      "text/plain": [
       "   male  age  education  currentSmoker  cigsPerDay  BPMeds  prevalentStroke  \\\n",
       "0     1   39        4.0              0         0.0     0.0                0   \n",
       "1     0   46        2.0              0         0.0     0.0                0   \n",
       "2     1   48        1.0              1        20.0     0.0                0   \n",
       "3     0   61        3.0              1        30.0     0.0                0   \n",
       "4     0   46        3.0              1        23.0     0.0                0   \n",
       "\n",
       "   prevalentHyp  diabetes  totChol  sysBP  diaBP    BMI  heartRate  glucose  \\\n",
       "0             0         0    195.0  106.0   70.0  26.97       80.0     77.0   \n",
       "1             0         0    250.0  121.0   81.0  28.73       95.0     76.0   \n",
       "2             0         0    245.0  127.5   80.0  25.34       75.0     70.0   \n",
       "3             1         0    225.0  150.0   95.0  28.58       65.0    103.0   \n",
       "4             0         0    285.0  130.0   84.0  23.10       85.0     85.0   \n",
       "\n",
       "   TenYearCHD  \n",
       "0           0  \n",
       "1           0  \n",
       "2           0  \n",
       "3           1  \n",
       "4           0  "
      ]
     },
     "execution_count": 76,
     "metadata": {},
     "output_type": "execute_result"
    }
   ],
   "source": [
    "df = pd.read_csv('FraminghamScale.csv')\n",
    "df.head()"
   ]
  },
  {
   "cell_type": "markdown",
   "id": "5a5122f8",
   "metadata": {},
   "source": [
    "### **Analizar las columnas**\n",
    "- Verificamos la existencia de valores nulos y tipo de dato de cada columna.\n",
    "- Podemos ver que hay ciertas columnas con valores nulos."
   ]
  },
  {
   "cell_type": "code",
   "execution_count": 77,
   "id": "10650540",
   "metadata": {},
   "outputs": [
    {
     "name": "stdout",
     "output_type": "stream",
     "text": [
      "<class 'pandas.core.frame.DataFrame'>\n",
      "RangeIndex: 4238 entries, 0 to 4237\n",
      "Data columns (total 16 columns):\n",
      " #   Column           Non-Null Count  Dtype  \n",
      "---  ------           --------------  -----  \n",
      " 0   male             4238 non-null   int64  \n",
      " 1   age              4238 non-null   int64  \n",
      " 2   education        4133 non-null   float64\n",
      " 3   currentSmoker    4238 non-null   int64  \n",
      " 4   cigsPerDay       4209 non-null   float64\n",
      " 5   BPMeds           4185 non-null   float64\n",
      " 6   prevalentStroke  4238 non-null   int64  \n",
      " 7   prevalentHyp     4238 non-null   int64  \n",
      " 8   diabetes         4238 non-null   int64  \n",
      " 9   totChol          4188 non-null   float64\n",
      " 10  sysBP            4238 non-null   float64\n",
      " 11  diaBP            4238 non-null   float64\n",
      " 12  BMI              4219 non-null   float64\n",
      " 13  heartRate        4237 non-null   float64\n",
      " 14  glucose          3850 non-null   float64\n",
      " 15  TenYearCHD       4238 non-null   int64  \n",
      "dtypes: float64(9), int64(7)\n",
      "memory usage: 529.9 KB\n"
     ]
    },
    {
     "data": {
      "text/plain": [
       "male                 0\n",
       "age                  0\n",
       "education          105\n",
       "currentSmoker        0\n",
       "cigsPerDay          29\n",
       "BPMeds              53\n",
       "prevalentStroke      0\n",
       "prevalentHyp         0\n",
       "diabetes             0\n",
       "totChol             50\n",
       "sysBP                0\n",
       "diaBP                0\n",
       "BMI                 19\n",
       "heartRate            1\n",
       "glucose            388\n",
       "TenYearCHD           0\n",
       "dtype: int64"
      ]
     },
     "execution_count": 77,
     "metadata": {},
     "output_type": "execute_result"
    }
   ],
   "source": [
    "df.info()\n",
    "df.isnull().sum()"
   ]
  },
  {
   "cell_type": "markdown",
   "id": "7d5fd507",
   "metadata": {},
   "source": [
    "### **Normalización**\n",
    "- Seleccionamos cada columna que contenga mínimamente un valor nulo.\n",
    "- Rellenamos los campos vacíos con la mediana de su respectiva columna."
   ]
  },
  {
   "cell_type": "code",
   "execution_count": 78,
   "id": "1bceecab",
   "metadata": {},
   "outputs": [
    {
     "name": "stderr",
     "output_type": "stream",
     "text": [
      "C:\\Users\\el xd\\AppData\\Local\\Temp\\ipykernel_8452\\3179727956.py:4: FutureWarning: A value is trying to be set on a copy of a DataFrame or Series through chained assignment using an inplace method.\n",
      "The behavior will change in pandas 3.0. This inplace method will never work because the intermediate object on which we are setting values always behaves as a copy.\n",
      "\n",
      "For example, when doing 'df[col].method(value, inplace=True)', try using 'df.method({col: value}, inplace=True)' or df[col] = df[col].method(value) instead, to perform the operation inplace on the original object.\n",
      "\n",
      "\n",
      "  df[col].fillna(median_value, inplace=True)\n",
      "C:\\Users\\el xd\\AppData\\Local\\Temp\\ipykernel_8452\\3179727956.py:4: FutureWarning: A value is trying to be set on a copy of a DataFrame or Series through chained assignment using an inplace method.\n",
      "The behavior will change in pandas 3.0. This inplace method will never work because the intermediate object on which we are setting values always behaves as a copy.\n",
      "\n",
      "For example, when doing 'df[col].method(value, inplace=True)', try using 'df.method({col: value}, inplace=True)' or df[col] = df[col].method(value) instead, to perform the operation inplace on the original object.\n",
      "\n",
      "\n",
      "  df[col].fillna(median_value, inplace=True)\n",
      "C:\\Users\\el xd\\AppData\\Local\\Temp\\ipykernel_8452\\3179727956.py:4: FutureWarning: A value is trying to be set on a copy of a DataFrame or Series through chained assignment using an inplace method.\n",
      "The behavior will change in pandas 3.0. This inplace method will never work because the intermediate object on which we are setting values always behaves as a copy.\n",
      "\n",
      "For example, when doing 'df[col].method(value, inplace=True)', try using 'df.method({col: value}, inplace=True)' or df[col] = df[col].method(value) instead, to perform the operation inplace on the original object.\n",
      "\n",
      "\n",
      "  df[col].fillna(median_value, inplace=True)\n",
      "C:\\Users\\el xd\\AppData\\Local\\Temp\\ipykernel_8452\\3179727956.py:4: FutureWarning: A value is trying to be set on a copy of a DataFrame or Series through chained assignment using an inplace method.\n",
      "The behavior will change in pandas 3.0. This inplace method will never work because the intermediate object on which we are setting values always behaves as a copy.\n",
      "\n",
      "For example, when doing 'df[col].method(value, inplace=True)', try using 'df.method({col: value}, inplace=True)' or df[col] = df[col].method(value) instead, to perform the operation inplace on the original object.\n",
      "\n",
      "\n",
      "  df[col].fillna(median_value, inplace=True)\n",
      "C:\\Users\\el xd\\AppData\\Local\\Temp\\ipykernel_8452\\3179727956.py:4: FutureWarning: A value is trying to be set on a copy of a DataFrame or Series through chained assignment using an inplace method.\n",
      "The behavior will change in pandas 3.0. This inplace method will never work because the intermediate object on which we are setting values always behaves as a copy.\n",
      "\n",
      "For example, when doing 'df[col].method(value, inplace=True)', try using 'df.method({col: value}, inplace=True)' or df[col] = df[col].method(value) instead, to perform the operation inplace on the original object.\n",
      "\n",
      "\n",
      "  df[col].fillna(median_value, inplace=True)\n",
      "C:\\Users\\el xd\\AppData\\Local\\Temp\\ipykernel_8452\\3179727956.py:4: FutureWarning: A value is trying to be set on a copy of a DataFrame or Series through chained assignment using an inplace method.\n",
      "The behavior will change in pandas 3.0. This inplace method will never work because the intermediate object on which we are setting values always behaves as a copy.\n",
      "\n",
      "For example, when doing 'df[col].method(value, inplace=True)', try using 'df.method({col: value}, inplace=True)' or df[col] = df[col].method(value) instead, to perform the operation inplace on the original object.\n",
      "\n",
      "\n",
      "  df[col].fillna(median_value, inplace=True)\n",
      "C:\\Users\\el xd\\AppData\\Local\\Temp\\ipykernel_8452\\3179727956.py:4: FutureWarning: A value is trying to be set on a copy of a DataFrame or Series through chained assignment using an inplace method.\n",
      "The behavior will change in pandas 3.0. This inplace method will never work because the intermediate object on which we are setting values always behaves as a copy.\n",
      "\n",
      "For example, when doing 'df[col].method(value, inplace=True)', try using 'df.method({col: value}, inplace=True)' or df[col] = df[col].method(value) instead, to perform the operation inplace on the original object.\n",
      "\n",
      "\n",
      "  df[col].fillna(median_value, inplace=True)\n"
     ]
    }
   ],
   "source": [
    "for col in df.columns:\n",
    "    if df[col].isnull().sum() > 0:\n",
    "        median_value = df[col].median()\n",
    "        df[col].fillna(median_value, inplace=True)"
   ]
  },
  {
   "cell_type": "markdown",
   "id": "9e943287",
   "metadata": {},
   "source": [
    "- Volvemos a verficar si existen valores nulos y podemos ver que ningún campo está vacío. "
   ]
  },
  {
   "cell_type": "code",
   "execution_count": 79,
   "id": "2ad89ce5",
   "metadata": {},
   "outputs": [
    {
     "data": {
      "text/plain": [
       "male               0\n",
       "age                0\n",
       "education          0\n",
       "currentSmoker      0\n",
       "cigsPerDay         0\n",
       "BPMeds             0\n",
       "prevalentStroke    0\n",
       "prevalentHyp       0\n",
       "diabetes           0\n",
       "totChol            0\n",
       "sysBP              0\n",
       "diaBP              0\n",
       "BMI                0\n",
       "heartRate          0\n",
       "glucose            0\n",
       "TenYearCHD         0\n",
       "dtype: int64"
      ]
     },
     "execution_count": 79,
     "metadata": {},
     "output_type": "execute_result"
    }
   ],
   "source": [
    "df.isnull().sum()"
   ]
  },
  {
   "cell_type": "markdown",
   "id": "19f5f1be",
   "metadata": {},
   "source": [
    "### **Creación de variables**\n",
    "- El modelo se va a entrenar utilizando todas las columnas excepto \"TenYearCHD\" (X).\n",
    "- Nos va a devolver una prediccion basandose en la columna \"TenYearCHD\" (Y)."
   ]
  },
  {
   "cell_type": "code",
   "execution_count": 80,
   "id": "33aea338",
   "metadata": {},
   "outputs": [],
   "source": [
    "X = df.drop('TenYearCHD', axis=1)  \n",
    "y = df['TenYearCHD']               "
   ]
  },
  {
   "cell_type": "markdown",
   "id": "a39172b0",
   "metadata": {},
   "source": [
    "### **Entrenar modelo**"
   ]
  },
  {
   "cell_type": "markdown",
   "id": "0b621ace",
   "metadata": {},
   "source": [
    "- Comenzamos dividiendo el entrenamiento en dos partes.\n",
    "- El modelo utilizará un 80% de los datos del DF para su entrenamiento y un 20% de datos para probar."
   ]
  },
  {
   "cell_type": "code",
   "execution_count": 81,
   "id": "59ba2442",
   "metadata": {},
   "outputs": [],
   "source": [
    "X_train, X_test, y_train, y_test = train_test_split(\n",
    "    X, y, test_size=0.2, random_state=42\n",
    ")"
   ]
  },
  {
   "cell_type": "markdown",
   "id": "6dd311fa",
   "metadata": {},
   "source": [
    "- Definimos y configuramos el modelo."
   ]
  },
  {
   "cell_type": "code",
   "execution_count": 82,
   "id": "430828b2",
   "metadata": {},
   "outputs": [
    {
     "name": "stdout",
     "output_type": "stream",
     "text": [
      "Epoch 1/50\n"
     ]
    },
    {
     "name": "stderr",
     "output_type": "stream",
     "text": [
      "c:\\Users\\el xd\\Documents\\regresion-logistica-keras-tensorflow\\env\\Lib\\site-packages\\keras\\src\\layers\\core\\dense.py:93: UserWarning: Do not pass an `input_shape`/`input_dim` argument to a layer. When using Sequential models, prefer using an `Input(shape)` object as the first layer in the model instead.\n",
      "  super().__init__(activity_regularizer=activity_regularizer, **kwargs)\n"
     ]
    },
    {
     "name": "stdout",
     "output_type": "stream",
     "text": [
      "\u001b[1m85/85\u001b[0m \u001b[32m━━━━━━━━━━━━━━━━━━━━\u001b[0m\u001b[37m\u001b[0m \u001b[1m1s\u001b[0m 3ms/step - accuracy: 0.8447 - loss: 22.0435 - val_accuracy: 0.8407 - val_loss: 15.7226\n",
      "Epoch 2/50\n",
      "\u001b[1m85/85\u001b[0m \u001b[32m━━━━━━━━━━━━━━━━━━━━\u001b[0m\u001b[37m\u001b[0m \u001b[1m0s\u001b[0m 2ms/step - accuracy: 0.8536 - loss: 12.3589 - val_accuracy: 0.8407 - val_loss: 6.4116\n",
      "Epoch 3/50\n",
      "\u001b[1m85/85\u001b[0m \u001b[32m━━━━━━━━━━━━━━━━━━━━\u001b[0m\u001b[37m\u001b[0m \u001b[1m0s\u001b[0m 1ms/step - accuracy: 0.8272 - loss: 4.6137 - val_accuracy: 0.7788 - val_loss: 2.5457\n",
      "Epoch 4/50\n",
      "\u001b[1m85/85\u001b[0m \u001b[32m━━━━━━━━━━━━━━━━━━━━\u001b[0m\u001b[37m\u001b[0m \u001b[1m0s\u001b[0m 1ms/step - accuracy: 0.7565 - loss: 2.7160 - val_accuracy: 0.7788 - val_loss: 2.3531\n",
      "Epoch 5/50\n",
      "\u001b[1m85/85\u001b[0m \u001b[32m━━━━━━━━━━━━━━━━━━━━\u001b[0m\u001b[37m\u001b[0m \u001b[1m0s\u001b[0m 2ms/step - accuracy: 0.7606 - loss: 2.4370 - val_accuracy: 0.7714 - val_loss: 2.1740\n",
      "Epoch 6/50\n",
      "\u001b[1m85/85\u001b[0m \u001b[32m━━━━━━━━━━━━━━━━━━━━\u001b[0m\u001b[37m\u001b[0m \u001b[1m0s\u001b[0m 1ms/step - accuracy: 0.7664 - loss: 2.2093 - val_accuracy: 0.7935 - val_loss: 2.0405\n",
      "Epoch 7/50\n",
      "\u001b[1m85/85\u001b[0m \u001b[32m━━━━━━━━━━━━━━━━━━━━\u001b[0m\u001b[37m\u001b[0m \u001b[1m0s\u001b[0m 2ms/step - accuracy: 0.7882 - loss: 2.0619 - val_accuracy: 0.7566 - val_loss: 1.8696\n",
      "Epoch 8/50\n",
      "\u001b[1m85/85\u001b[0m \u001b[32m━━━━━━━━━━━━━━━━━━━━\u001b[0m\u001b[37m\u001b[0m \u001b[1m0s\u001b[0m 1ms/step - accuracy: 0.7704 - loss: 1.9056 - val_accuracy: 0.7920 - val_loss: 1.7334\n",
      "Epoch 9/50\n",
      "\u001b[1m85/85\u001b[0m \u001b[32m━━━━━━━━━━━━━━━━━━━━\u001b[0m\u001b[37m\u001b[0m \u001b[1m0s\u001b[0m 1ms/step - accuracy: 0.7739 - loss: 1.9372 - val_accuracy: 0.7891 - val_loss: 1.5880\n",
      "Epoch 10/50\n",
      "\u001b[1m85/85\u001b[0m \u001b[32m━━━━━━━━━━━━━━━━━━━━\u001b[0m\u001b[37m\u001b[0m \u001b[1m0s\u001b[0m 2ms/step - accuracy: 0.7682 - loss: 1.6426 - val_accuracy: 0.7861 - val_loss: 1.4618\n",
      "Epoch 11/50\n",
      "\u001b[1m85/85\u001b[0m \u001b[32m━━━━━━━━━━━━━━━━━━━━\u001b[0m\u001b[37m\u001b[0m \u001b[1m0s\u001b[0m 1ms/step - accuracy: 0.7918 - loss: 1.4103 - val_accuracy: 0.7581 - val_loss: 1.3508\n",
      "Epoch 12/50\n",
      "\u001b[1m85/85\u001b[0m \u001b[32m━━━━━━━━━━━━━━━━━━━━\u001b[0m\u001b[37m\u001b[0m \u001b[1m0s\u001b[0m 1ms/step - accuracy: 0.7783 - loss: 1.2816 - val_accuracy: 0.7876 - val_loss: 1.2368\n",
      "Epoch 13/50\n",
      "\u001b[1m85/85\u001b[0m \u001b[32m━━━━━━━━━━━━━━━━━━━━\u001b[0m\u001b[37m\u001b[0m \u001b[1m0s\u001b[0m 1ms/step - accuracy: 0.7753 - loss: 1.2503 - val_accuracy: 0.7404 - val_loss: 1.1680\n",
      "Epoch 14/50\n",
      "\u001b[1m85/85\u001b[0m \u001b[32m━━━━━━━━━━━━━━━━━━━━\u001b[0m\u001b[37m\u001b[0m \u001b[1m0s\u001b[0m 2ms/step - accuracy: 0.7717 - loss: 1.1885 - val_accuracy: 0.7847 - val_loss: 1.0495\n",
      "Epoch 15/50\n",
      "\u001b[1m85/85\u001b[0m \u001b[32m━━━━━━━━━━━━━━━━━━━━\u001b[0m\u001b[37m\u001b[0m \u001b[1m0s\u001b[0m 1ms/step - accuracy: 0.7724 - loss: 1.0550 - val_accuracy: 0.7832 - val_loss: 0.9731\n",
      "Epoch 16/50\n",
      "\u001b[1m85/85\u001b[0m \u001b[32m━━━━━━━━━━━━━━━━━━━━\u001b[0m\u001b[37m\u001b[0m \u001b[1m0s\u001b[0m 2ms/step - accuracy: 0.7888 - loss: 0.9767 - val_accuracy: 0.7965 - val_loss: 0.9068\n",
      "Epoch 17/50\n",
      "\u001b[1m85/85\u001b[0m \u001b[32m━━━━━━━━━━━━━━━━━━━━\u001b[0m\u001b[37m\u001b[0m \u001b[1m0s\u001b[0m 2ms/step - accuracy: 0.7874 - loss: 0.9603 - val_accuracy: 0.8127 - val_loss: 0.8646\n",
      "Epoch 18/50\n",
      "\u001b[1m85/85\u001b[0m \u001b[32m━━━━━━━━━━━━━━━━━━━━\u001b[0m\u001b[37m\u001b[0m \u001b[1m0s\u001b[0m 2ms/step - accuracy: 0.7902 - loss: 0.8341 - val_accuracy: 0.7611 - val_loss: 0.8085\n",
      "Epoch 19/50\n",
      "\u001b[1m85/85\u001b[0m \u001b[32m━━━━━━━━━━━━━━━━━━━━\u001b[0m\u001b[37m\u001b[0m \u001b[1m0s\u001b[0m 2ms/step - accuracy: 0.7802 - loss: 0.7885 - val_accuracy: 0.8024 - val_loss: 0.7538\n",
      "Epoch 20/50\n",
      "\u001b[1m85/85\u001b[0m \u001b[32m━━━━━━━━━━━━━━━━━━━━\u001b[0m\u001b[37m\u001b[0m \u001b[1m0s\u001b[0m 1ms/step - accuracy: 0.7790 - loss: 0.8108 - val_accuracy: 0.8068 - val_loss: 0.7170\n",
      "Epoch 21/50\n",
      "\u001b[1m85/85\u001b[0m \u001b[32m━━━━━━━━━━━━━━━━━━━━\u001b[0m\u001b[37m\u001b[0m \u001b[1m0s\u001b[0m 1ms/step - accuracy: 0.7852 - loss: 0.7289 - val_accuracy: 0.7139 - val_loss: 0.7549\n",
      "Epoch 22/50\n",
      "\u001b[1m85/85\u001b[0m \u001b[32m━━━━━━━━━━━━━━━━━━━━\u001b[0m\u001b[37m\u001b[0m \u001b[1m0s\u001b[0m 2ms/step - accuracy: 0.7732 - loss: 0.7381 - val_accuracy: 0.7950 - val_loss: 0.6388\n",
      "Epoch 23/50\n",
      "\u001b[1m85/85\u001b[0m \u001b[32m━━━━━━━━━━━━━━━━━━━━\u001b[0m\u001b[37m\u001b[0m \u001b[1m0s\u001b[0m 1ms/step - accuracy: 0.7939 - loss: 0.6629 - val_accuracy: 0.7994 - val_loss: 0.6087\n",
      "Epoch 24/50\n",
      "\u001b[1m85/85\u001b[0m \u001b[32m━━━━━━━━━━━━━━━━━━━━\u001b[0m\u001b[37m\u001b[0m \u001b[1m0s\u001b[0m 1ms/step - accuracy: 0.7778 - loss: 0.6530 - val_accuracy: 0.8215 - val_loss: 0.5833\n",
      "Epoch 25/50\n",
      "\u001b[1m85/85\u001b[0m \u001b[32m━━━━━━━━━━━━━━━━━━━━\u001b[0m\u001b[37m\u001b[0m \u001b[1m0s\u001b[0m 1ms/step - accuracy: 0.8117 - loss: 0.5848 - val_accuracy: 0.8392 - val_loss: 0.5972\n",
      "Epoch 26/50\n",
      "\u001b[1m85/85\u001b[0m \u001b[32m━━━━━━━━━━━━━━━━━━━━\u001b[0m\u001b[37m\u001b[0m \u001b[1m0s\u001b[0m 1ms/step - accuracy: 0.7960 - loss: 0.6163 - val_accuracy: 0.8097 - val_loss: 0.5327\n",
      "Epoch 27/50\n",
      "\u001b[1m85/85\u001b[0m \u001b[32m━━━━━━━━━━━━━━━━━━━━\u001b[0m\u001b[37m\u001b[0m \u001b[1m0s\u001b[0m 2ms/step - accuracy: 0.7942 - loss: 0.5750 - val_accuracy: 0.8068 - val_loss: 0.5156\n",
      "Epoch 28/50\n",
      "\u001b[1m85/85\u001b[0m \u001b[32m━━━━━━━━━━━━━━━━━━━━\u001b[0m\u001b[37m\u001b[0m \u001b[1m0s\u001b[0m 1ms/step - accuracy: 0.8011 - loss: 0.5677 - val_accuracy: 0.8437 - val_loss: 0.5034\n",
      "Epoch 29/50\n",
      "\u001b[1m85/85\u001b[0m \u001b[32m━━━━━━━━━━━━━━━━━━━━\u001b[0m\u001b[37m\u001b[0m \u001b[1m0s\u001b[0m 2ms/step - accuracy: 0.7804 - loss: 0.5613 - val_accuracy: 0.8230 - val_loss: 0.4803\n",
      "Epoch 30/50\n",
      "\u001b[1m85/85\u001b[0m \u001b[32m━━━━━━━━━━━━━━━━━━━━\u001b[0m\u001b[37m\u001b[0m \u001b[1m0s\u001b[0m 1ms/step - accuracy: 0.8098 - loss: 0.5061 - val_accuracy: 0.8378 - val_loss: 0.5030\n",
      "Epoch 31/50\n",
      "\u001b[1m85/85\u001b[0m \u001b[32m━━━━━━━━━━━━━━━━━━━━\u001b[0m\u001b[37m\u001b[0m \u001b[1m0s\u001b[0m 1ms/step - accuracy: 0.8154 - loss: 0.5087 - val_accuracy: 0.8186 - val_loss: 0.4574\n",
      "Epoch 32/50\n",
      "\u001b[1m85/85\u001b[0m \u001b[32m━━━━━━━━━━━━━━━━━━━━\u001b[0m\u001b[37m\u001b[0m \u001b[1m0s\u001b[0m 2ms/step - accuracy: 0.8104 - loss: 0.4898 - val_accuracy: 0.8437 - val_loss: 0.4464\n",
      "Epoch 33/50\n",
      "\u001b[1m85/85\u001b[0m \u001b[32m━━━━━━━━━━━━━━━━━━━━\u001b[0m\u001b[37m\u001b[0m \u001b[1m0s\u001b[0m 1ms/step - accuracy: 0.8277 - loss: 0.4624 - val_accuracy: 0.8378 - val_loss: 0.4680\n",
      "Epoch 34/50\n",
      "\u001b[1m85/85\u001b[0m \u001b[32m━━━━━━━━━━━━━━━━━━━━\u001b[0m\u001b[37m\u001b[0m \u001b[1m0s\u001b[0m 2ms/step - accuracy: 0.8338 - loss: 0.4732 - val_accuracy: 0.8437 - val_loss: 0.4296\n",
      "Epoch 35/50\n",
      "\u001b[1m85/85\u001b[0m \u001b[32m━━━━━━━━━━━━━━━━━━━━\u001b[0m\u001b[37m\u001b[0m \u001b[1m0s\u001b[0m 1ms/step - accuracy: 0.8326 - loss: 0.4416 - val_accuracy: 0.8407 - val_loss: 0.4311\n",
      "Epoch 36/50\n",
      "\u001b[1m85/85\u001b[0m \u001b[32m━━━━━━━━━━━━━━━━━━━━\u001b[0m\u001b[37m\u001b[0m \u001b[1m0s\u001b[0m 1ms/step - accuracy: 0.8311 - loss: 0.4531 - val_accuracy: 0.8407 - val_loss: 0.4287\n",
      "Epoch 37/50\n",
      "\u001b[1m85/85\u001b[0m \u001b[32m━━━━━━━━━━━━━━━━━━━━\u001b[0m\u001b[37m\u001b[0m \u001b[1m0s\u001b[0m 1ms/step - accuracy: 0.8425 - loss: 0.4138 - val_accuracy: 0.8348 - val_loss: 0.4193\n",
      "Epoch 38/50\n",
      "\u001b[1m85/85\u001b[0m \u001b[32m━━━━━━━━━━━━━━━━━━━━\u001b[0m\u001b[37m\u001b[0m \u001b[1m0s\u001b[0m 1ms/step - accuracy: 0.8276 - loss: 0.4441 - val_accuracy: 0.8407 - val_loss: 0.4150\n",
      "Epoch 39/50\n",
      "\u001b[1m85/85\u001b[0m \u001b[32m━━━━━━━━━━━━━━━━━━━━\u001b[0m\u001b[37m\u001b[0m \u001b[1m0s\u001b[0m 1ms/step - accuracy: 0.8414 - loss: 0.4282 - val_accuracy: 0.8422 - val_loss: 0.4102\n",
      "Epoch 40/50\n",
      "\u001b[1m85/85\u001b[0m \u001b[32m━━━━━━━━━━━━━━━━━━━━\u001b[0m\u001b[37m\u001b[0m \u001b[1m0s\u001b[0m 1ms/step - accuracy: 0.8244 - loss: 0.4365 - val_accuracy: 0.8422 - val_loss: 0.4089\n",
      "Epoch 41/50\n",
      "\u001b[1m85/85\u001b[0m \u001b[32m━━━━━━━━━━━━━━━━━━━━\u001b[0m\u001b[37m\u001b[0m \u001b[1m0s\u001b[0m 1ms/step - accuracy: 0.8270 - loss: 0.4533 - val_accuracy: 0.8437 - val_loss: 0.4049\n",
      "Epoch 42/50\n",
      "\u001b[1m85/85\u001b[0m \u001b[32m━━━━━━━━━━━━━━━━━━━━\u001b[0m\u001b[37m\u001b[0m \u001b[1m0s\u001b[0m 1ms/step - accuracy: 0.8278 - loss: 0.4533 - val_accuracy: 0.8407 - val_loss: 0.4797\n",
      "Epoch 43/50\n",
      "\u001b[1m85/85\u001b[0m \u001b[32m━━━━━━━━━━━━━━━━━━━━\u001b[0m\u001b[37m\u001b[0m \u001b[1m0s\u001b[0m 2ms/step - accuracy: 0.8400 - loss: 0.4379 - val_accuracy: 0.8437 - val_loss: 0.4195\n",
      "Epoch 44/50\n",
      "\u001b[1m85/85\u001b[0m \u001b[32m━━━━━━━━━━━━━━━━━━━━\u001b[0m\u001b[37m\u001b[0m \u001b[1m0s\u001b[0m 2ms/step - accuracy: 0.8445 - loss: 0.4204 - val_accuracy: 0.8451 - val_loss: 0.4007\n",
      "Epoch 45/50\n",
      "\u001b[1m85/85\u001b[0m \u001b[32m━━━━━━━━━━━━━━━━━━━━\u001b[0m\u001b[37m\u001b[0m \u001b[1m0s\u001b[0m 2ms/step - accuracy: 0.8442 - loss: 0.4205 - val_accuracy: 0.8451 - val_loss: 0.4007\n",
      "Epoch 46/50\n",
      "\u001b[1m85/85\u001b[0m \u001b[32m━━━━━━━━━━━━━━━━━━━━\u001b[0m\u001b[37m\u001b[0m \u001b[1m0s\u001b[0m 2ms/step - accuracy: 0.8475 - loss: 0.4050 - val_accuracy: 0.8407 - val_loss: 0.4392\n",
      "Epoch 47/50\n",
      "\u001b[1m85/85\u001b[0m \u001b[32m━━━━━━━━━━━━━━━━━━━━\u001b[0m\u001b[37m\u001b[0m \u001b[1m0s\u001b[0m 1ms/step - accuracy: 0.8491 - loss: 0.4240 - val_accuracy: 0.8422 - val_loss: 0.4033\n",
      "Epoch 48/50\n",
      "\u001b[1m85/85\u001b[0m \u001b[32m━━━━━━━━━━━━━━━━━━━━\u001b[0m\u001b[37m\u001b[0m \u001b[1m0s\u001b[0m 1ms/step - accuracy: 0.8536 - loss: 0.3988 - val_accuracy: 0.8466 - val_loss: 0.3990\n",
      "Epoch 49/50\n",
      "\u001b[1m85/85\u001b[0m \u001b[32m━━━━━━━━━━━━━━━━━━━━\u001b[0m\u001b[37m\u001b[0m \u001b[1m0s\u001b[0m 1ms/step - accuracy: 0.8309 - loss: 0.4322 - val_accuracy: 0.8407 - val_loss: 0.4498\n",
      "Epoch 50/50\n",
      "\u001b[1m85/85\u001b[0m \u001b[32m━━━━━━━━━━━━━━━━━━━━\u001b[0m\u001b[37m\u001b[0m \u001b[1m0s\u001b[0m 1ms/step - accuracy: 0.8581 - loss: 0.4102 - val_accuracy: 0.8422 - val_loss: 0.4076\n"
     ]
    }
   ],
   "source": [
    "model = Sequential()\n",
    "model.add(Dense(1, input_shape=(X_train.shape[1],), activation='sigmoid'))\n",
    "\n",
    "model.compile(\n",
    "    optimizer='adam', \n",
    "    loss='binary_crossentropy', \n",
    "    metrics=['accuracy']\n",
    "    )\n",
    "\n",
    "history = model.fit(X_train, y_train, epochs=50, batch_size=32, validation_split=0.2)"
   ]
  },
  {
   "cell_type": "markdown",
   "id": "bb963d08",
   "metadata": {},
   "source": [
    "- Evaluamos el modelo."
   ]
  },
  {
   "cell_type": "code",
   "execution_count": 83,
   "id": "ab03020f",
   "metadata": {},
   "outputs": [
    {
     "name": "stdout",
     "output_type": "stream",
     "text": [
      "\u001b[1m27/27\u001b[0m \u001b[32m━━━━━━━━━━━━━━━━━━━━\u001b[0m\u001b[37m\u001b[0m \u001b[1m0s\u001b[0m 2ms/step - accuracy: 0.8672 - loss: 0.3949 \n",
      "Pérdida: 0.4201\n",
      "Precisión: 85.50%\n"
     ]
    }
   ],
   "source": [
    "loss, accuracy = model.evaluate(X_test, y_test)\n",
    "print(f\"Pérdida: {loss:.4f}\")\n",
    "print(f\"Precisión: {accuracy * 100:.2f}%\")"
   ]
  },
  {
   "cell_type": "markdown",
   "id": "5cd15ce8",
   "metadata": {},
   "source": [
    "### **Predicción**"
   ]
  },
  {
   "cell_type": "code",
   "execution_count": 84,
   "id": "2431ca97",
   "metadata": {},
   "outputs": [
    {
     "name": "stdout",
     "output_type": "stream",
     "text": [
      "\u001b[1m27/27\u001b[0m \u001b[32m━━━━━━━━━━━━━━━━━━━━\u001b[0m\u001b[37m\u001b[0m \u001b[1m0s\u001b[0m 2ms/step \n",
      "VALORES REALES VS PREDICCIONES\n",
      "\n",
      "Paciente 1: Real: SIN riesgo - Predicción: SIN riesgo ✅\n",
      "Paciente 2: Real: SIN riesgo - Predicción: SIN riesgo ✅\n",
      "Paciente 3: Real: SIN riesgo - Predicción: SIN riesgo ✅\n",
      "Paciente 4: Real: SIN riesgo - Predicción: SIN riesgo ✅\n",
      "Paciente 5: Real: SIN riesgo - Predicción: SIN riesgo ✅\n",
      "Paciente 6: Real: SIN riesgo - Predicción: SIN riesgo ✅\n",
      "Paciente 7: Real: CON riesgo - Predicción: SIN riesgo ❌\n",
      "Paciente 8: Real: SIN riesgo - Predicción: SIN riesgo ✅\n",
      "Paciente 9: Real: SIN riesgo - Predicción: SIN riesgo ✅\n",
      "Paciente 10: Real: CON riesgo - Predicción: SIN riesgo ❌\n"
     ]
    }
   ],
   "source": [
    "y_pred = (model.predict(X_test) > 0.3).astype(int)\n",
    "\n",
    "print(\"VALORES REALES VS PREDICCIONES\\n\")\n",
    "for i in range(10):\n",
    "    real = y_test.iloc[i]\n",
    "    pred = y_pred[i]\n",
    "    paciente_id = y.index[i]\n",
    "    \n",
    "    real_text = \"CON riesgo\" if real == 1 else \"SIN riesgo\"\n",
    "    pred_text = \"CON riesgo\" if pred == 1 else \"SIN riesgo\"\n",
    "    \n",
    "    correcto = \"✅\" if real == pred else \"❌\"\n",
    "    \n",
    "    print(f\"Paciente {paciente_id + 1}: Real: {real_text} - Predicción: {pred_text} {correcto}\")"
   ]
  },
  {
   "cell_type": "markdown",
   "id": "b28ed685",
   "metadata": {},
   "source": [
    "### **Guardar modelo**"
   ]
  },
  {
   "cell_type": "code",
   "execution_count": 85,
   "id": "7ed0c528",
   "metadata": {},
   "outputs": [
    {
     "data": {
      "text/plain": [
       "['modelo_framingham.pkl']"
      ]
     },
     "execution_count": 85,
     "metadata": {},
     "output_type": "execute_result"
    }
   ],
   "source": [
    "joblib.dump(model, 'modelo_framingham.pkl')"
   ]
  },
  {
   "cell_type": "markdown",
   "id": "6c47fd65",
   "metadata": {},
   "source": [
    "### **Crear un DF de prueba**\n",
    "- Creamos un DF con dos pacientes, donde el primero tiene valores de riesgos para una enfermedad coronaria y el segundo tiene valores normales.    "
   ]
  },
  {
   "cell_type": "code",
   "execution_count": 86,
   "id": "0420136a",
   "metadata": {},
   "outputs": [],
   "source": [
    "pacientes = [{\n",
    "    'male': 1,                \n",
    "    'age': 65,                \n",
    "    'education': 1.0,           \n",
    "    'currentSmoker': 1,        \n",
    "    'cigsPerDay': 40.0,      \n",
    "    'BPMeds': 1.0,            \n",
    "    'prevalentStroke': 1,      \n",
    "    'prevalentHyp': 1,          \n",
    "    'diabetes': 1,           \n",
    "    'totChol': 300.0,          \n",
    "    'sysBP': 180.0,           \n",
    "    'diaBP': 110.0,        \n",
    "    'BMI': 35.0,               \n",
    "    'heartRate': 95.0,          \n",
    "    'glucose': 200.0  \n",
    "},{\n",
    "    'male': 0,                 \n",
    "    'age': 30,                 \n",
    "    'education': 4.0,           \n",
    "    'currentSmoker': 0,         \n",
    "    'cigsPerDay': 0.0,          \n",
    "    'BPMeds': 0.0,              \n",
    "    'prevalentStroke': 0,     \n",
    "    'prevalentHyp': 0,         \n",
    "    'diabetes': 0,             \n",
    "    'totChol': 170.0,          \n",
    "    'sysBP': 110.0,          \n",
    "    'diaBP': 70.0,             \n",
    "    'BMI': 22.0,               \n",
    "    'heartRate': 70.0,          \n",
    "    'glucose': 85.0 \n",
    "}]\n",
    "\n",
    "df_pacientes = pd.DataFrame(pacientes)"
   ]
  },
  {
   "cell_type": "markdown",
   "id": "1efc3f95",
   "metadata": {},
   "source": [
    "### **Cargar y probar modelo**\n"
   ]
  },
  {
   "cell_type": "code",
   "execution_count": 88,
   "id": "8e8fb449",
   "metadata": {},
   "outputs": [
    {
     "name": "stdout",
     "output_type": "stream",
     "text": [
      "\u001b[1m1/1\u001b[0m \u001b[32m━━━━━━━━━━━━━━━━━━━━\u001b[0m\u001b[37m\u001b[0m \u001b[1m0s\u001b[0m 43ms/step\n",
      "Paciente 1: CON riesgo\n",
      "Paciente 2: SIN riesgo\n"
     ]
    }
   ],
   "source": [
    "reg = joblib.load('modelo_framingham.pkl')\n",
    "\n",
    "pred = (reg.predict(df_pacientes) > 0.3).astype(int)\n",
    "\n",
    "for i in range(len(pred)):\n",
    "    paciente_id = i + 1\n",
    "    riesgo = \"CON riesgo\" if pred[i] == 1 else \"SIN riesgo\"\n",
    "    print(f\"Paciente {paciente_id}: {riesgo}\")"
   ]
  }
 ],
 "metadata": {
  "kernelspec": {
   "display_name": "env",
   "language": "python",
   "name": "python3"
  },
  "language_info": {
   "codemirror_mode": {
    "name": "ipython",
    "version": 3
   },
   "file_extension": ".py",
   "mimetype": "text/x-python",
   "name": "python",
   "nbconvert_exporter": "python",
   "pygments_lexer": "ipython3",
   "version": "3.11.4"
  }
 },
 "nbformat": 4,
 "nbformat_minor": 5
}
